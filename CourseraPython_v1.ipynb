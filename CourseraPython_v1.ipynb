{
 "cells": [
  {
   "cell_type": "markdown",
   "id": "8bc6e4df-1102-495b-9c7e-25992c18b05d",
   "metadata": {},
   "source": [
    "#Coursera Python Class 9/2025\n",
    "This is my first attempt at setting up Jupyter Notebook with Github"
   ]
  },
  {
   "cell_type": "markdown",
   "id": "bb0931b4-91ce-4d51-8af1-916026b83267",
   "metadata": {},
   "source": [
    "**Bold text**\n",
    "*Italic text*\n",
    "- Bullet points "
   ]
  },
  {
   "cell_type": "code",
   "execution_count": 2,
   "id": "04c7c051-5264-40ff-88c0-624b81a22229",
   "metadata": {},
   "outputs": [
    {
     "name": "stdout",
     "output_type": "stream",
     "text": [
      "Welcome to TechCorp!\n"
     ]
    }
   ],
   "source": [
    "# Create your first variables\n",
    "company_name = \"TechCorp\"\n",
    "employee_count = 100\n",
    "\n",
    "# Print them\n",
    "print(f\"Welcome to {company_name}!\")"
   ]
  },
  {
   "cell_type": "markdown",
   "id": "842ac947-8103-4df6-b80d-6053faa230a1",
   "metadata": {},
   "source": [
    "#I'm to define my goals for this course\n",
    "- learn python\n",
    "- learn how to use github properly\n",
    "- get more familiar with Juypter Lab/Notebook"
   ]
  },
  {
   "cell_type": "code",
   "execution_count": null,
   "id": "23544497-163c-4e93-a27b-184ad0583140",
   "metadata": {},
   "outputs": [],
   "source": []
  }
 ],
 "metadata": {
  "kernelspec": {
   "display_name": "Python [conda env:base] *",
   "language": "python",
   "name": "conda-base-py"
  },
  "language_info": {
   "codemirror_mode": {
    "name": "ipython",
    "version": 3
   },
   "file_extension": ".py",
   "mimetype": "text/x-python",
   "name": "python",
   "nbconvert_exporter": "python",
   "pygments_lexer": "ipython3",
   "version": "3.12.4"
  }
 },
 "nbformat": 4,
 "nbformat_minor": 5
}
